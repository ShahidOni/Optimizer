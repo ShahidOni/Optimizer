{
  "cells": [
    {
      "cell_type": "markdown",
      "metadata": {
        "id": "_yK8nRgzhEu0"
      },
      "source": [
        "# Import libraries"
      ]
    },
    {
      "cell_type": "code",
      "execution_count": null,
      "metadata": {
        "id": "iZN2u5WKRFqR"
      },
      "outputs": [],
      "source": [
        "import torch\n",
        "\n",
        "import os\n",
        "import random\n",
        "import pandas\n",
        "import numpy\n",
        "from scipy.optimize import curve_fit\n",
        "from torch.nn import ELU\n",
        "import matplotlib.pyplot as plt\n",
        "import matplotlib.patches as patches\n",
        "import imageio\n",
        "# seed = 7777\n",
        "# random.seed(seed) \n",
        "# torch.manual_seed(seed);"
      ]
    },
    {
      "cell_type": "markdown",
      "metadata": {
        "id": "DpfXJ0cchEu6"
      },
      "source": [
        "# Load Saved MP (Magnetic Parameter) Model"
      ]
    },
    {
      "cell_type": "code",
      "execution_count": null,
      "metadata": {
        "id": "B-TMPJtCKIM6"
      },
      "outputs": [],
      "source": [
        "# 12 input -> 42 output\n",
        "class MpModel(torch.nn.Module):\n",
        "    def __init__(self):\n",
        "        super(MpModel, self).__init__()\n",
        "\n",
        "        self.linear1 = torch.nn.Linear(12, 100, bias=True)\n",
        "        self.linear2 = torch.nn.Linear(100, 100, bias=True)\n",
        "        self.linear3 = torch.nn.Linear(100, 42, bias=True)\n",
        "\n",
        "    def forward(self, x):\n",
        "        x = torch.atan(self.linear1(x))\n",
        "        x = torch.atan(self.linear2(x))\n",
        "        x = torch.atan(self.linear2(x))\n",
        "        x = self.linear3(x)\n",
        "        return x\n",
        "\n",
        "\n",
        "mp_model = MpModel().to(\"cuda\")\n",
        "mp_model.load_state_dict(torch.load(\"saved_model_state.pt\"))\n",
        "\n",
        "for param in mp_model.parameters():\n",
        "    param.requires_grad = False"
      ]
    },
    {
      "cell_type": "markdown",
      "metadata": {
        "id": "-6oZRKnZhEu8"
      },
      "source": [
        "# Create GP (Geometry Paramter) Generator"
      ]
    },
    {
      "cell_type": "code",
      "source": [
        "elu = ELU(0)\n"
      ],
      "metadata": {
        "id": "ecz0WiczJXKI"
      },
      "execution_count": null,
      "outputs": []
    },
    {
      "cell_type": "code",
      "execution_count": null,
      "metadata": {
        "id": "z9cggAl1BGHo"
      },
      "outputs": [],
      "source": [
        "class GpModel(torch.nn.Module):\n",
        "    def __init__(self, input_length: int):\n",
        "        super(GpModel, self).__init__()\n",
        "\n",
        "        self.dense_layer1 = torch.nn.Linear(int(input_length), 128)\n",
        "        self.dense_layer2 = torch.nn.Linear(128, 256)\n",
        "        self.dense_layer3 = torch.nn.Linear(256, 512)\n",
        "        self.dense_layer4 = torch.nn.Linear(512, 256)\n",
        "        self.dense_layer5 = torch.nn.Linear(256, 128)\n",
        "        self.dense_layer6 = torch.nn.Linear(128, int(input_length))\n",
        "        \n",
        "        self.batch_norm1 = torch.nn.LazyBatchNorm1d()\n",
        "        self.batch_norm2 = torch.nn.LazyBatchNorm1d()\n",
        "        self.batch_norm3 = torch.nn.LazyBatchNorm1d()\n",
        "        self.batch_norm4 = torch.nn.LazyBatchNorm1d()\n",
        "        self.batch_norm5 = torch.nn.LazyBatchNorm1d()\n",
        "        self.activation = torch.nn.Sigmoid()\n",
        "\n",
        "    def forward(self, x):\n",
        "        x = self.batch_norm1(torch.atan(self.dense_layer1(x)))\n",
        "        x = self.batch_norm2(torch.atan(self.dense_layer2(x)))\n",
        "        x = self.batch_norm3(torch.atan(self.dense_layer3(x)))\n",
        "        x = self.batch_norm4(torch.atan(self.dense_layer4(x)))\n",
        "        x = self.batch_norm5(torch.atan(self.dense_layer5(x)))\n",
        "        x = self.activation(self.dense_layer6(x))\n",
        "        return x\n",
        "\n",
        "\n",
        "gp_model = GpModel(10).to(\"cuda\")\n",
        "optimizer = torch.optim.Adam(gp_model.parameters(), lr=1e-4)"
      ]
    },
    {
      "cell_type": "markdown",
      "metadata": {
        "id": "HAyyPWgthEu_"
      },
      "source": [
        "# System Constraints"
      ]
    },
    {
      "cell_type": "code",
      "execution_count": null,
      "metadata": {
        "id": "Bse1wsKN1NxY"
      },
      "outputs": [],
      "source": [
        "# x-direction of the primary winding (mm)\n",
        "lpx_min, lpx_max = (50.0, 650.0)\n",
        "\n",
        "# y-direction of the primary winding (mm)\n",
        "lpy_min, lpy_max = (50.0, 2050.0)\n",
        "\n",
        "# width of the primary winding (mm)\n",
        "wp_min, wp_max = (25.0, 325.0)\n",
        "\n",
        "# length of the edge of the primary core (mm)\n",
        "a_min, a_max = (0.0, 200.0)\n",
        "\n",
        "# pitch of the adjacent cores (mm)\n",
        "p_min, p_max = (0.0, 200.0)\n",
        "\n",
        "# length of the secondary winding (mm)\n",
        "ls_min, ls_max = (50.0, 450.0)\n",
        "\n",
        "# width of the secondary winding (mm)\n",
        "ws_min, ws_max = (25.0, 225.0)\n",
        "\n",
        "# input RMS current (A)\n",
        "ip_min, ip_max = (50.0, 200.0)\n",
        "\n",
        "# turn number of the primary side\n",
        "np_min, np_max = (4.0, 10.0)\n",
        "\n",
        "# turn number of the secondary side\n",
        "ns_min, ns_max = (4.0, 10.0)\n",
        "\n",
        "# switching frequency (kHz)\n",
        "f = 85 * (10 ** 3)\n",
        "\n",
        "# output power at the center (kW)\n",
        "p_out = 50 * (10 ** 3)\n",
        "\n",
        "# input DC voltage (V)\n",
        "v_dc = 400\n",
        "\n",
        "# output DC voltage (V)\n",
        "v_bat = 400\n",
        "\n",
        "# length of the edge of the secondary core\n",
        "b = 50\n",
        "\n",
        "# ???\n",
        "w = 2 * numpy.pi * f  # [rad/s]\n",
        "\n",
        "# ???\n",
        "q_coil = 400"
      ]
    },
    {
      "cell_type": "markdown",
      "metadata": {
        "id": "vqA9tUb9hEvC"
      },
      "source": [
        "# Helper functions"
      ]
    },
    {
      "cell_type": "code",
      "execution_count": null,
      "metadata": {
        "id": "brlwMfzj1Nxh"
      },
      "outputs": [],
      "source": [
        "# Creates a tensor of shape [num, *start.shape] whose values are evenly spaced from start to end, inclusive.\n",
        "# Replicates but the multi-dimensional bahaviour of numpy.linspace in PyTorch.\n",
        "\n",
        "@torch.jit.script\n",
        "def linspace(start: torch.Tensor, stop: torch.Tensor, num: int):\n",
        "    # create a tensor of 'num' steps from 0 to 1\n",
        "    steps = torch.arange(num, dtype=torch.float32, device=start.device) / (num - 1)\n",
        "\n",
        "    # reshape the 'steps' tensor to [-1, *([1]*start.ndim)] to allow for broadcastings\n",
        "    # - using 'steps.reshape([-1, *([1]*start.ndim)])' would be nice here but torchscript\n",
        "    #   \"cannot statically infer the expected size of a list in this contex\", hence the code below\n",
        "    for i in range(start.ndim):\n",
        "        steps = steps.unsqueeze(-1)\n",
        "\n",
        "    # the output starts at 'start' and increments until 'stop' in each dimension\n",
        "    out = start[None] + steps * (stop - start)[None]\n",
        "\n",
        "    return out"
      ]
    },
    {
      "cell_type": "code",
      "execution_count": null,
      "metadata": {
        "id": "dMoXnTFV8U1P"
      },
      "outputs": [],
      "source": [
        "# Generate a pytorch tensor full of random floats in the range [-1, +1] with the given shape\n",
        "\n",
        "def generate_noise(shape):\n",
        "    return torch.distributions.uniform.Uniform(-1, +1).sample(shape).cuda()"
      ]
    },
    {
      "cell_type": "code",
      "execution_count": null,
      "metadata": {
        "id": "xloGE25R8Jtm"
      },
      "outputs": [],
      "source": [
        "def stack_parameters(*params):\n",
        "    return torch.stack(params).transpose(0, 1)\n",
        "\n",
        "\n",
        "# Scale an array to be between our specified [min, max] contraints\n",
        "def scale(arr):\n",
        "    scaler_min = torch.tensor(\n",
        "        [a_min, lpx_min, lpy_min, ls_min, p_min, wp_min, ws_min, ip_min, np_min, ns_min],\n",
        "        device=\"cuda\",\n",
        "    )\n",
        "    scaler_max = torch.tensor(\n",
        "        [a_max, lpx_max, lpy_max, ls_max, p_max, wp_max, ws_max, ip_max, np_max, ns_max],\n",
        "        device=\"cuda\",\n",
        "    )\n",
        "    return arr * (scaler_max - scaler_min) + scaler_min\n",
        "\n",
        "\n",
        "def extract(arr):\n",
        "    a, lpx, lpy, ls, p, wp, ws, ip, np, ns = [\n",
        "        numpy.squeeze(x) for x in numpy.hsplit(arr, 10)\n",
        "    ]\n",
        "\n",
        "    ys_min = (\n",
        "        5 * wp +\n",
        "        4 * a +\n",
        "        3 * lpy +\n",
        "        2 * p\n",
        "    )\n",
        "\n",
        "    ys_max = (lpy + wp)\n",
        "    ys_max = ys_min + (ys_min - ys_max) / 2\n",
        "\n",
        "    ys_min /= 2\n",
        "    ys_max /= 2\n",
        "\n",
        "    ys = linspace(ys_min, ys_max, num=5)\n",
        "\n",
        "    np = torch.round(np)\n",
        "    ns = torch.round(ns)\n",
        "\n",
        "    # take all 15 tensors of shape (X) and convert to (15, X)\n",
        "    return a, lpx, lpy, ls, p, wp, ws, ip, np, ns, ys\n",
        "\n",
        "\n",
        "def scale_and_extract(arr):\n",
        "    scaled_array = scale(arr)\n",
        "    return extract(scaled_array)"
      ]
    },
    {
      "cell_type": "code",
      "source": [],
      "metadata": {
        "id": "G0UOoM8KRXz7"
      },
      "execution_count": null,
      "outputs": []
    },
    {
      "cell_type": "code",
      "execution_count": null,
      "metadata": {
        "colab": {
          "base_uri": "https://localhost:8080/"
        },
        "id": "44TlTSnclCKs",
        "outputId": "a9c6e832-c597-4a83-c59a-7c8bbb9ba13b"
      },
      "outputs": [
        {
          "output_type": "stream",
          "name": "stdout",
          "text": [
            "\n",
            "    GP Parameters Shape:    torch.Size([256, 12])\n",
            "    Extra Parameters Shape: torch.Size([256, 3])\n",
            "    MP Model Output Shape:  torch.Size([256, 42])\n",
            "    \n"
          ]
        }
      ],
      "source": [
        "# Enclose in a function so we don't leak variables\n",
        "def test_models():\n",
        "    noise = generate_noise(shape=(256, 10))\n",
        "    gp = gp_model(noise)\n",
        "    a, lpx, lpy, ls, p, wp, ws, ip, np, ns, ys = scale_and_extract(gp)\n",
        "\n",
        "    gp_parameters = stack_parameters(a, lpx, lpy, ls, p, wp, ws, *ys)\n",
        "    extra_parameters = stack_parameters(ip, np, ns)\n",
        "\n",
        "    mp = mp_model(gp_parameters)\n",
        "\n",
        "    print(f\"\"\"\n",
        "    GP Parameters Shape:    {gp_parameters.shape}\n",
        "    Extra Parameters Shape: {extra_parameters.shape}\n",
        "    MP Model Output Shape:  {mp.shape}\n",
        "    \"\"\")\n",
        "test_models()"
      ]
    },
    {
      "cell_type": "code",
      "execution_count": null,
      "metadata": {
        "id": "eEb7J5bOFEEr"
      },
      "outputs": [],
      "source": [
        "\"\"\"\n",
        "Method to take two equally-sized lists and return just the elements which lie \n",
        "on the Pareto frontier, sorted into order.\n",
        "Default behaviour is to find the maximum for both X and Y, but the option is\n",
        "available to specify maxX = False or maxY = False to find the minimum for either\n",
        "or both of the parameters.\n",
        "\"\"\"\n",
        "\n",
        "\n",
        "def pareto_frontier(x, y, max_x=False):\n",
        "    if max_x:\n",
        "        return _pareto_frontier(y, x)\n",
        "    else:\n",
        "        return _pareto_frontier(x, y)\n",
        "\n",
        "\n",
        "def _pareto_frontier(x, y):\n",
        "    # Combine inputs and sort them with smallest X values coming first\n",
        "    sorted_xy = sorted(zip(x, y))\n",
        "    p_front_x = torch.zeros(len(x), device=\"cuda\")\n",
        "    p_front_y = torch.zeros(len(y), device=\"cuda\")\n",
        "    \n",
        "    # Loop through the sorted list\n",
        "    #   Look for lower values of Y…\n",
        "    #   and add them to the Pareto frontier\n",
        "    min_y = sorted_xy[0][1]\n",
        "    for index in range(len(sorted_xy)):\n",
        "        x, y = sorted_xy[index]\n",
        "        if y < min_y:\n",
        "            min_y = y\n",
        "            p_front_x[index] = x\n",
        "            p_front_y[index] = y\n",
        "            \n",
        "    p_front_x = p_front_x[p_front_x.nonzero()]\n",
        "    p_front_y = p_front_y[p_front_y.nonzero()]\n",
        "\n",
        "    return p_front_x, p_front_y"
      ]
    },
    {
      "cell_type": "code",
      "execution_count": null,
      "metadata": {
        "id": "fV3xWUXBhEvJ"
      },
      "outputs": [],
      "source": [
        "def y_util(x, a, b, c):\n",
        "    return (1 / (a * (x**b)))**c"
      ]
    },
    {
      "cell_type": "code",
      "source": [
        "def distance_from_origin(*args):\n",
        "  distance = 0\n",
        "  for objective in args:\n",
        "    distance += torch.pow(objective,2)\n",
        "  \n",
        "  return distance"
      ],
      "metadata": {
        "id": "YS_UYwm9l9UQ"
      },
      "execution_count": null,
      "outputs": []
    },
    {
      "cell_type": "markdown",
      "metadata": {
        "id": "OoQzi6XchEvJ"
      },
      "source": [
        "# Load DWPT data"
      ]
    },
    {
      "cell_type": "code",
      "execution_count": null,
      "metadata": {
        "id": "jkTrlAJMH5UO",
        "colab": {
          "base_uri": "https://localhost:8080/"
        },
        "outputId": "7c93d559-b7a5-4cb4-b8b7-0922fb962f95"
      },
      "outputs": [
        {
          "output_type": "stream",
          "name": "stdout",
          "text": [
            "(1010, 12)\n",
            "(1010, 42)\n"
          ]
        }
      ],
      "source": [
        "def load_dwpt():\n",
        "    folder_name = \"./dwpt_v5\"\n",
        "    file_names = [\n",
        "        \"DWPT_v5_N10\",\n",
        "        \"DWPT_v5_N100\",\n",
        "        \"DWPT_v5_N200\",\n",
        "        \"DWPT_v5_N300\",\n",
        "        \"DWPT_v5_N400\",\n",
        "    ]\n",
        "\n",
        "    df = pandas.DataFrame()\n",
        "\n",
        "    for file_name in file_names:\n",
        "        new_df = pandas.read_csv(f\"{folder_name}/{file_name}_after.csv\", index_col=0)\n",
        "        df = pandas.concat([df, new_df])\n",
        "\n",
        "    return df\n",
        "\n",
        "df = load_dwpt()\n",
        "df_gp = df.loc[:, :\"ys4[mm]\"]\n",
        "df_mp = df.loc[:, \"k0mm_ys0\":]\n",
        "\n",
        "print(df_gp.shape)\n",
        "print(df_mp.shape)"
      ]
    },
    {
      "cell_type": "markdown",
      "metadata": {
        "id": "ZPDZ4IvUhEvL"
      },
      "source": [
        "# Define Loss Functions"
      ]
    },
    {
      "cell_type": "code",
      "execution_count": null,
      "metadata": {
        "id": "ooTuqXyahEvM"
      },
      "outputs": [],
      "source": [
        "def kdiff_loss(k_parameters):\n",
        "    (\n",
        "        k_0_0, k_0_1, k_0_2, k_0_3, k_0_4, k_1_0,\n",
        "    ) = k_parameters\n",
        "\n",
        "    kdiff = abs(k_0_0 - k_1_0)\n",
        "    kdiff = kdiff / torch.max(abs(k_0_0), abs(k_1_0))\n",
        "\n",
        "    # their kdiff - why is there a difference?\n",
        "    #   kdiff = abs(k00 - k10) / k00\n",
        "\n",
        "    return kdiff\n",
        "\n",
        "\n",
        "\n",
        "def bstray_loss(k_parameters, l_parameters, b_parameters, extra_parameters):\n",
        "    # Unpack parameters\n",
        "    (\n",
        "        k_0_0, k_0_1, k_0_2, k_0_3, k_0_4, k_1_0,\n",
        "    ) = k_parameters\n",
        "    (\n",
        "        lp_0_0, lp_0_1, lp_0_2, lp_0_3, lp_0_4,\n",
        "        ls_0_0, ls_0_1, ls_0_2, ls_0_3, ls_0_4,\n",
        "        lp_1_0, ls_1_0,\n",
        "    ) = l_parameters\n",
        "    (\n",
        "        bx_p_0_00, by_p_0_00, bz_p_0_00,\n",
        "        bx_p_0_90, by_p_0_90, bz_p_0_90,\n",
        "        bx_s_0_00, by_s_0_00, bz_s_0_00,\n",
        "        bx_s_0_90, by_s_0_90, bz_s_0_90,\n",
        "\n",
        "        bx_p_1_00, by_p_1_00, bz_p_1_00,\n",
        "        bx_p_1_90, by_p_1_90, bz_p_1_90,\n",
        "        bx_s_1_00, by_s_1_00, bz_s_1_00,\n",
        "        bx_s_1_90, by_s_1_90, bz_s_1_90,\n",
        "    ) = b_parameters\n",
        "    (\n",
        "        ip, np, ns\n",
        "    ) = extra_parameters\n",
        "\n",
        "    # Scale l_parameters\n",
        "    lp_0_0 = lp_0_0 * np ** 2\n",
        "    ls_0_0 = ls_0_0 * ns ** 2\n",
        "\n",
        "    # Calculate Is\n",
        "    # n1 = (numpy.pi * w) * (lp_0_0 * 10 ** -9) * (ip * numpy.sqrt(2) / (4 * v_dc))\n",
        "    # t1 = (numpy.pi) ** 2 * w * (lp_0_0 * 10 ** -9 * ls_0_0 * 10 ** -9) ** 0.5\n",
        "    # t2 = p_out / (8 * k_0_0 * n1 * v_dc * v_bat)\n",
        "    # n2 = t1 * t2\n",
        "    # # \"Is\" is way too big?\n",
        "    # Is = 4 * n2 * v_bat / (numpy.pi * w * ls_0_0 * 10 ** -9) / numpy.sqrt(2)\n",
        "    \n",
        "    # Paper formula\n",
        "    n1 = (torch.pi * w * lp_0_0 * ip) / (2 * numpy.sqrt(2) * v_dc)\n",
        "    t1 = (torch.pi ** 2 * w * p_out * torch.sqrt(lp_0_0 * ls_0_0))\n",
        "    t2 = 8 * k_0_0 * n1 * v_dc * v_bat\n",
        "    n2 = t1 / t2\n",
        "    Is = (4 * v_bat * n2) / (torch.pi * w * ls_0_0)\n",
        "\n",
        "    # Calculate B_0mm - unneeded since b100mm always bigger?\n",
        "    # bx_0 = (\n",
        "    #     (bx_p_0_00 * ip * np + bx_s_0_00 * Is * ns) ** 2 +\n",
        "    #     (bx_p_0_90 * ip * np + bx_s_0_90 * Is * ns) ** 2\n",
        "    # ) ** 0.5\n",
        "    # by_0 = (\n",
        "    #     (by_p_0_00 * ip * np + by_s_0_00 * Is * ns) ** 2 +\n",
        "    #     (by_p_0_90 * ip * np + by_s_0_90 * Is * ns) ** 2\n",
        "    # ) ** 0.5\n",
        "    # bz_0 = (\n",
        "    #     (bz_p_0_00 * ip * np + bz_s_0_00 * Is * ns) ** 2 +\n",
        "    #     (bz_p_0_90 * ip * np + bz_s_0_90 * Is * ns) ** 2\n",
        "    # ) ** 0.5\n",
        "    # b_0 = (bx_0**2 + by_0**2 + bz_0**2) ** 0.5\n",
        "\n",
        "    # Calculate B_100mm\n",
        "    bx_100 = (\n",
        "        (bx_p_1_00 * ip * np + bx_s_1_00 * Is * ns) ** 2 +\n",
        "        (bx_p_1_90 * ip * np + bx_s_1_90 * Is * ns) ** 2\n",
        "    ) ** 0.5\n",
        "    by_100 = (\n",
        "        (by_p_1_00 * ip * np + by_s_1_00 * Is * ns) ** 2 +\n",
        "        (by_p_1_90 * ip * np + by_s_1_90 * Is * ns) ** 2\n",
        "    ) ** 0.5\n",
        "    bz_100 = (\n",
        "        (bz_p_1_00 * ip * np + bz_s_1_00 * Is * ns) ** 2 +\n",
        "        (bz_p_1_90 * ip * np + bz_s_1_90 * Is * ns) ** 2\n",
        "    ) ** 0.5\n",
        "    b_100 = (bx_100**2 + by_100**2 + bz_100**2) ** 0.5\n",
        "\n",
        "    # Bstray is the max between the two targets\n",
        "    # bstray = torch.max(b_0, b_100)\n",
        "    bstray = b_100\n",
        "\n",
        "    return bstray"
      ]
    },
    {
      "cell_type": "code",
      "source": [
        "import math\n",
        "f = 85*10**3 #[Hz]\n",
        "w =2*math.pi*f #[rad/s]\n",
        "Pout= 50000 #W\n",
        "Vdc = 400 #800 # V\n",
        "Vbat = 400 #V\n",
        "QCoil = 400\n",
        "b = 50"
      ],
      "metadata": {
        "id": "4iNocy5Z3sO1"
      },
      "execution_count": null,
      "outputs": []
    },
    {
      "cell_type": "code",
      "source": [
        "def coil_loss_and_power_average(k_parameters, l_parameters, b_parameters, extra_parameters):\n",
        "  (\n",
        "      k_0_0, k_0_1, k_0_2, k_0_3, k_0_4, k_1_0,\n",
        "  ) = k_parameters\n",
        "  (\n",
        "      lp_0_0, lp_0_1, lp_0_2, lp_0_3, lp_0_4,\n",
        "      ls_0_0, ls_0_1, ls_0_2, ls_0_3, ls_0_4,\n",
        "      lp_1_0, ls_1_0,\n",
        "  ) = l_parameters\n",
        "  (\n",
        "      bx_p_0_00, by_p_0_00, bz_p_0_00,\n",
        "      bx_p_0_90, by_p_0_90, bz_p_0_90,\n",
        "      bx_s_0_00, by_s_0_00, bz_s_0_00,\n",
        "      bx_s_0_90, by_s_0_90, bz_s_0_90,\n",
        "\n",
        "      bx_p_1_00, by_p_1_00, bz_p_1_00,\n",
        "      bx_p_1_90, by_p_1_90, bz_p_1_90,\n",
        "      bx_s_1_00, by_s_1_00, bz_s_1_00,\n",
        "      bx_s_1_90, by_s_1_90, bz_s_1_90,\n",
        "  ) = b_parameters\n",
        "  (\n",
        "      ip, np, ns\n",
        "  ) = extra_parameters\n",
        "\n",
        "\n",
        "  a6 = lp_0_0 * np**2  # LP0MM_YSO\n",
        "  a7 = lp_0_1 * np**2  # LP0MM_YS1\n",
        "  a8 = lp_0_2 * np**2  # LP0MM_YS2\n",
        "  a9 = lp_0_3 * np**2  # LP0MM_YS3\n",
        "  a10 = lp_0_4 * np**2 # LP0MM_YS4\n",
        "\n",
        "  a11 = ls_0_0 * ns**2 # LS0MM_YSO\n",
        "  a12 = ls_0_1 * ns**2 # LS0MM_YS1\n",
        "  a13 = ls_0_2 * ns**2 # LS0MM_YS2\n",
        "  a14 = ls_0_3 * ns**2 # LS0MM_YS3\n",
        "  a15 = ls_0_4 * ns**2 # LS0MM_YS4\n",
        "\n",
        "\n",
        "  n1_i = math.pi*w*a6*10**(-9)*ip*math.sqrt(2)/(4*Vdc) #math.pi*w*Lp_xs0_ys0[i]*10**(-9)*Ip[i]*math.sqrt(2)/(4*Vdc)\n",
        "  t1 = (math.pi)**2*w*(a6*10**(-9)*a11*10**(-9))**0.5 #(math.pi)**2*w*(Lp_xs0_ys0[i]*10**(-9)*Ls_xs0_ys0[i]*10**(-9))**0.5*Pout/(8*k_xs0_ys0[i]*n1_i*Vdc*Vbat)\n",
        "  t2 = Pout/(8*k_0_0*n1_i*Vdc*Vbat)\n",
        "  n2_i = t1*t2\n",
        "  Is_i = 4*n2_i*Vbat/(math.pi*w*a11*10**(-9))/math.sqrt(2)\n",
        "\n",
        "  loss = w*a6*10**(-9)*ip**2/QCoil + w*a11 *10**(-9)*Is_i**2/QCoil\n",
        "\n",
        "  p0 = w*k_0_0*(a6*10**(-9))*(a11*10**(-9))**0.5*ip*Is_i\n",
        "  p1 = w*k_0_1*(a7*10**(-9))*(a12*10**(-9))**0.5*ip*Is_i  \n",
        "  p2 = w*k_0_2*(a8*10**(-9))*(a13*10**(-9))**0.5*ip*Is_i \n",
        "  p3 = w*k_0_3*(a9*10**(-9))*(a14*10**(-9))**0.5*ip*Is_i\n",
        "  p4 = 2*w*k_0_4*(a10*10**(-9))*(a15*10**(-9))**0.5*ip*Is_i \n",
        "  pave = (p0+(2*p1)+(2*p2)+(2*p3)+p4)/8 \n",
        "  return loss,pave\n",
        "\n"
      ],
      "metadata": {
        "id": "_xFmgOR23TBD"
      },
      "execution_count": null,
      "outputs": []
    },
    {
      "cell_type": "code",
      "source": [
        "def number_of_inverters(gp_parameters):\n",
        "  (\n",
        "        a, lpx, lpy, ls, p, wp, ws, *ys\n",
        "  ) = gp_parameters.transpose(0,1)\n",
        "  number_of_inverters = 1/(lpy+2*wp+2*a+p)*10**3\n",
        "  return number_of_inverters"
      ],
      "metadata": {
        "id": "_9TE0J9eYPrD"
      },
      "execution_count": null,
      "outputs": []
    },
    {
      "cell_type": "code",
      "source": [
        "  def core_losses(k_parameters, l_parameters, b_parameters, extra_parameters, gp_parameters):\n",
        "    (\n",
        "        k_0_0, k_0_1, k_0_2, k_0_3, k_0_4, k_1_0,\n",
        "    ) = k_parameters\n",
        "    (\n",
        "        lp_0_0, lp_0_1, lp_0_2, lp_0_3, lp_0_4,\n",
        "        ls_0_0, ls_0_1, ls_0_2, ls_0_3, ls_0_4,\n",
        "        lp_1_0, ls_1_0,\n",
        "    ) = l_parameters\n",
        "    (\n",
        "        bx_p_0_00, by_p_0_00, bz_p_0_00,\n",
        "        bx_p_0_90, by_p_0_90, bz_p_0_90,\n",
        "        bx_s_0_00, by_s_0_00, bz_s_0_00,\n",
        "        bx_s_0_90, by_s_0_90, bz_s_0_90,\n",
        "\n",
        "        bx_p_1_00, by_p_1_00, bz_p_1_00,\n",
        "        bx_p_1_90, by_p_1_90, bz_p_1_90,\n",
        "        bx_s_1_00, by_s_1_00, bz_s_1_00,\n",
        "        bx_s_1_90, by_s_1_90, bz_s_1_90,\n",
        "    ) = b_parameters\n",
        "    (\n",
        "        ip, np, ns\n",
        "    ) = extra_parameters\n",
        "\n",
        "    (\n",
        "        a, lpx, lpy, ls, p, wp, ws, *ys\n",
        "    ) = gp_parameters.transpose(0,1)\n",
        "\n",
        "    V_PriCore = (lpy +2*wp+2*a)*(lpx+2*wp+2*a)*5/(10**3) # cm3\n",
        "    #print(V_PriCore)\n",
        "    V_SecCore = (ls+2*ws+2*b)**2*5/(10**3) # cm3\n",
        "    #print(V_SecCore)\n",
        "    V_PriWind = (2*(lpx+wp)+2*(lpy+wp))*6.6*6.6/(10**3)*np\n",
        "    V_SecWind = 4*(ls+ws)*6.6*6.6/(10**3)*ns\n",
        "\n",
        "    V_PriWind_ave = V_PriWind/(lpy+2*wp+2*a+p)*10**3 # cm3/m\n",
        "    V_PriCore_ave = V_PriCore/(lpy+2*wp+2*a+p)*10**3 # cm3/m\n",
        "\n",
        "    #print(V_PriWind_ave, V_PriCore_ave)\n",
        "    return V_PriCore, V_SecCore, V_PriWind, V_SecWind\n",
        "\n",
        "    # V_PriWind = (2*(gp_parameters[:,1]+gp_parameters[:,5])+2*(gp_parameters[:,2]+gp_parameters[:,5]))*6.6*6.6/(10**3)*extra_parameters[:,1]\n",
        "    # V_SecWind = 4*(gp_parameters[:,3]+gp_parameters[:,6])*6.6*6.6/(10**3)*extra_parameters[:,2]\n",
        "\n",
        "    #V_PriWind_ave = V_PriWind/(gp_parameters[:,2]+2*gp_parameters[:,5]+2*gp_parameters[:,0]+gp_parameters[:,4])*10**3 # cm3/m\n",
        "    #V_PriCore_ave = V_PriCore/(gp_parameters[:,2]+2*gp_parameters[:,5]+2*gp_parameters[:,0]+gp_parameters[:,4])*10**3 # cm3/m"
      ],
      "metadata": {
        "id": "rg6ZLG4NO5zN"
      },
      "execution_count": null,
      "outputs": []
    },
    {
      "cell_type": "code",
      "source": [
        "def loss_function(params, max, min):\n",
        "\n",
        "  m = torch.nn.Tanh()\n",
        "  params = torch.where(params > max, max, params)\n",
        "  params = torch.where(params < min, min, params)\n",
        "  return 1 + m(params)"
      ],
      "metadata": {
        "id": "reqyjEiKS49_"
      },
      "execution_count": null,
      "outputs": []
    },
    {
      "cell_type": "code",
      "source": [
        "def loss_function_relu(params, max,min=False):\n",
        "\n",
        "  relu = torch.nn.ReLU()\n",
        "  if min:\n",
        "    return relu(params - max/torch.min(params))\n",
        "  return relu(params - max/torch.max(params))\n"
      ],
      "metadata": {
        "id": "kxb1xWC4zpP3"
      },
      "execution_count": null,
      "outputs": []
    },
    {
      "cell_type": "code",
      "source": [
        "def loss_function_power_avg(params,max_val = 30000):\n",
        "  if torch.max(params) < max_val:\n",
        "    return 0\n",
        "  else:\n",
        "    return max(params)-30000"
      ],
      "metadata": {
        "id": "elUyFh4bWl2A"
      },
      "execution_count": null,
      "outputs": []
    },
    {
      "cell_type": "code",
      "source": [
        "from matplotlib.patches import Rectangle"
      ],
      "metadata": {
        "id": "HggqfQlUtZNy"
      },
      "execution_count": null,
      "outputs": []
    },
    {
      "cell_type": "code",
      "execution_count": null,
      "metadata": {
        "colab": {
          "base_uri": "https://localhost:8080/",
          "height": 660
        },
        "id": "QqYxKG8ThEvN",
        "outputId": "2d1f6e51-b0f2-4f80-eae7-bf52bad7aec4"
      },
      "outputs": [
        {
          "output_type": "stream",
          "name": "stdout",
          "text": [
            "pave tensor([ 13.7022,  13.7334, -64.4452,  ..., -38.9975, -81.0124, -41.2297],\n",
            "       device='cuda:0', grad_fn=<DivBackward0>)\n",
            "tensor(34644.9570, device='cuda:0', grad_fn=<SubBackward0>)\n"
          ]
        },
        {
          "output_type": "display_data",
          "data": {
            "text/plain": [
              "<Figure size 432x288 with 1 Axes>"
            ],
            "image/png": "[encoded data removed]"
          },
          "metadata": {
            "needs_background": "light"
          }
        },
        {
          "output_type": "display_data",
          "data": {
            "text/plain": [
              "<Figure size 432x288 with 1 Axes>"
            ],
            "image/png": "[encoded data removed]"
          },
          "metadata": {
            "needs_background": "light"
          }
        },
        {
          "output_type": "execute_result",
          "data": {
            "text/plain": [
              "tensor([0.3926, 0.3959, 0.9666,  ..., 0.9347, 1.0678, 0.9298], device='cuda:0',\n",
              "       grad_fn=<MulBackward0>)"
            ]
          },
          "metadata": {},
          "execution_count": 207
        }
      ],
      "source": [
        "noise = generate_noise(shape=(25_000, 10))\n",
        "gp = gp_model(noise)\n",
        "\n",
        "# Unpack and filter GP parameters\n",
        "a, lpx, lpy, ls, p, wp, ws, ip, np, ns, ys = scale_and_extract(gp)\n",
        "gp_parameters = stack_parameters(a, lpx, lpy, ls, p, wp, ws, *ys)\n",
        "extra_parameters = stack_parameters(ip, np, ns).transpose(0, 1)\n",
        "# Push GP parameters through MP model\n",
        "mp_parameters = mp_model(gp_parameters)\n",
        "\n",
        "# Scale MP parameters\n",
        "y = torch.Tensor(df_mp.values).transpose(0, 1).to(\"cuda\")\n",
        "min_y = torch.min(y, 1).values\n",
        "max_y = torch.max(y, 1).values\n",
        "mp_parameters = mp_parameters * (max_y - min_y) + min_y\n",
        "\n",
        "k_parameters = mp_parameters.transpose(0, 1)[0:6]\n",
        "l_parameters = mp_parameters.transpose(0, 1)[6:18]\n",
        "b_parameters = mp_parameters.transpose(0, 1)[18:]\n",
        "V_PriCore, V_SecCore, V_PriWind,V_SecWind = core_losses(k_parameters, l_parameters, b_parameters, extra_parameters, gp_parameters)\n",
        "# Calculate losses\n",
        "#print(V_PriCore, V_SecCore)\n",
        "kdiff = kdiff_loss(k_parameters)\n",
        "bstray = bstray_loss(k_parameters, l_parameters, b_parameters, extra_parameters)\n",
        "coilloss,pave = coil_loss_and_power_average(k_parameters, l_parameters, b_parameters, extra_parameters)\n",
        "print(\"pave\",pave)\n",
        "print(loss_function_power_avg(pave))\n",
        "plt.vlines(x=40,ymin = 0, ymax=.15,color='red',linestyle='dashed')\n",
        "plt.hlines(y=.15,xmin = 0, xmax=40,color='red',linestyle='dashed')\n",
        "plt.vlines(x=0,ymin = 0, ymax=.15,color='red',linestyle='dashed')\n",
        "plt.hlines(y=0,xmin = 0, xmax=40,color='red',linestyle='dashed')\n",
        "#display plot\n",
        "plt.scatter(bstray.detach().cpu(), 100 * kdiff.detach().cpu())\n",
        "plt.title(\"Random Network: Bstray vs Kdiff\")\n",
        "plt.xlabel(\"BStray\")\n",
        "plt.ylabel(\"Coupling %\")\n",
        "plt.show()\n",
        "\n",
        "plt.vlines(x=2000,ymin = 0, ymax=.15,color='red',linestyle='dashed')\n",
        "plt.hlines(y=.15,xmin = 0, xmax=2000,color='red',linestyle='dashed')\n",
        "plt.vlines(x=0,ymin = 0, ymax=.15,color='red',linestyle='dashed')\n",
        "plt.hlines(y=0,xmin = 0, xmax=2000,color='red',linestyle='dashed')\n",
        "plt.scatter(coilloss.detach().cpu(), 100 * kdiff.detach().cpu())\n",
        "plt.title(\"Random Network: Coilloss vs Kdiff\")\n",
        "plt.xlabel(\"Coilloss\")\n",
        "plt.ylabel(\"Coupling %\")\n",
        "plt.show()\n",
        "\n",
        "number_of_inverters(gp_parameters)"
      ]
    },
    {
      "cell_type": "markdown",
      "metadata": {
        "id": "8-Pel1PEhEvN"
      },
      "source": [
        "# Neural Network Training Loop"
      ]
    },
    {
      "cell_type": "code",
      "execution_count": null,
      "metadata": {
        "id": "OXzpQf5O1Nxk",
        "colab": {
          "base_uri": "https://localhost:8080/"
        },
        "outputId": "af569a3e-5196-4af4-bba4-cc4fb1937f54"
      },
      "outputs": [
        {
          "output_type": "stream",
          "name": "stdout",
          "text": [
            "tensor([50.0453, 50.0538, 50.0421,  ..., 50.0285, 50.0287, 50.0184],\n",
            "       device='cuda:0', grad_fn=<UnbindBackward0>) tensor([47499.6445, 65438.3398, 67447.2734,  ..., 82757.1953, 65063.3945,\n",
            "        82446.1875], device='cuda:0', grad_fn=<MulBackward0>)\n"
          ]
        }
      ],
      "source": [
        "p_front_x = []\n",
        "p_front_y = []\n",
        "pareto_bstray_points = []\n",
        "pareto_kdiff_points = []\n",
        "\n",
        "kdiffs = []\n",
        "bstrays = []\n",
        "paves = []\n",
        "coil_losses = []\n",
        "vpricores = []\n",
        "number_of_inverters_list = []\n",
        "\n",
        "i=0\n",
        "combined_losses = []\n",
        "\n",
        "for epoch in range(10001):\n",
        "    # Clear old gradients in the GP model\n",
        "    for param in gp_model.parameters():\n",
        "        param.grad = None\n",
        "\n",
        "    # Create GP parameters from noise\n",
        "    noise = generate_noise(shape=(10000, 10))\n",
        "    gp = gp_model(noise)\n",
        "\n",
        "    # Unpack and filter GP parameters\n",
        "    a, lpx, lpy, ls, p, wp, ws, ip, np, ns, ys = scale_and_extract(gp)\n",
        "    gp_parameters = stack_parameters(a, lpx, lpy, ls, p, wp, ws, *ys)\n",
        "    extra_parameters = stack_parameters(ip, np, ns).transpose(0, 1)\n",
        "\n",
        "    # Scale GP parameters - why?\n",
        "    min_x = torch.min(gp_parameters)\n",
        "    max_x = torch.max(gp_parameters)\n",
        "    gp_parameters = (gp_parameters - min_x) / (max_x - min_x)\n",
        "  \n",
        "    # Push GP parameters through MP model\n",
        "    mp_parameters = mp_model(gp_parameters)\n",
        "\n",
        "    # Scale MP parameters\n",
        "    y = torch.Tensor(df_mp.values).transpose(0, 1).to(\"cuda\")\n",
        "    min_y = torch.min(y, 1).values\n",
        "    max_y = torch.max(y, 1).values\n",
        "    mp_parameters = mp_parameters * (max_y - min_y) + min_y\n",
        "\n",
        "    k_parameters = mp_parameters.transpose(0, 1)[0:6]\n",
        "    l_parameters = mp_parameters.transpose(0, 1)[6:18]\n",
        "    b_parameters = mp_parameters.transpose(0, 1)[18:]\n",
        "\n",
        "    # Calculate losses\n",
        "    kdiff = kdiff_loss(k_parameters)\n",
        "    bstray = bstray_loss(k_parameters, l_parameters, b_parameters, extra_parameters)\n",
        "\n",
        "    coilloss,pave = coil_loss_and_power_average(k_parameters, l_parameters, b_parameters, extra_parameters)\n",
        "    V_PriCore, V_SecCore, V_PriWind,V_SecWind = core_losses(k_parameters, l_parameters, b_parameters, extra_parameters,gp_parameters)\n",
        "    \n",
        "    break\n",
        "    if epoch%500 == 0:\n",
        "      plt.close()\n",
        "      plt.scatter(bstray.detach().cpu(), kdiff.detach().cpu())\n",
        "      plt.title(\"Number of Iterations \" + str(epoch))\n",
        "      plt.xlabel(\"Bstray\")\n",
        "      plt.ylabel(\"Kdiff\")\n",
        "      plt.savefig(\"images/\"+str(i)+\".png\")\n",
        "      i+=1\n",
        "    # Scale losses\n",
        "    #distance = distance_from_origin(kdiff,bstray,coilloss, V_PriCore, V_SecCore, V_PriWind,V_SecWind) - distance_from_origin(pave)\n",
        "\n",
        "    # distance = distance_from_origin(kdiff,bstray,coilloss) \n",
        "    # distance.mean().backward()\n",
        "\n",
        "    new_kdiff = loss_function_relu(kdiff,.1502)\n",
        "    new_bstray = loss_function_relu(bstray, 41.9)\n",
        "    new_coil_loss = loss_function_relu(coilloss, 2000)\n",
        "    new_pave = loss_function_power_avg(pave)\n",
        "\n",
        "    total_loss = torch.sum(new_kdiff*new_bstray + new_bstray*new_coil_loss + \n",
        "                           new_kdiff*new_coil_loss + new_kdiff*pave + pave*new_bstray + new_coil_loss*pave)\n",
        "    total_loss.backward()\n",
        "    optimizer.step()\n",
        "    # Push loss through the optimizer and update the GP model\n",
        "    # try:\n",
        "    #     distance.backward()gp\n",
        "    #     optimizer.step()\n",
        "    # except Exception as e:\n",
        "    #     print(f\"Error on epoch {epoch} regarding\", e)\n",
        "    #     break\n",
        "\n",
        "    # Log losses and other metrics\n",
        "    if epoch % 1000 == 0:\n",
        "        # Store metrics for plotting or further logging\n",
        "        kdiffs.append(torch.mean(kdiff).cpu().data.numpy())\n",
        "        bstrays.append(torch.mean(bstray).cpu().data.numpy())\n",
        "        #vpricores.append(torch.mean(V_PriCore).cpu().data.numpy())\n",
        "        coil_losses.append(torch.mean(coilloss).cpu().data.numpy())\n",
        "        paves.append(torch.mean(pave).cpu().data.numpy())\n",
        "\n",
        "\n",
        "        print(f\"Epoch: {epoch:4d}\")\n",
        "        #print(f\"  Combined Loss:  {combined_losses[-1]:.10f}\")\n",
        "        print(f\"  Kdiff :         {100 * kdiffs[-1]:.4f}%\")\n",
        "        print(f\"  Bstray :        {bstrays[-1]:.4f}\")\n",
        "        print(f\"  Pave :        {paves[-1]:.4f}\")\n",
        "        print(f\"  Coilloss :        {coilloss[-1]:.4f}\")\n",
        "        #print(f\"  VPriCore :        {vpricores[-1]:.4f}\")\n",
        "\n",
        "        # Save model for further training or testing\n",
        "        #torch.save(gp_model.state_dict(), f\"./models/gp_model_{epoch:06}.pt\")\n",
        "    # else:\n",
        "    #   kdiffs.append(torch.mean(kdiff).cpu().data.numpy())\n",
        "    #   bstrays.append(torch.mean(bstray).cpu().data.numpy())\n",
        "    #   #vpricores.append(torch.mean(V_PriCore).cpu().data.numpy())\n",
        "    #   coil_losses.append(torch.mean(coilloss).cpu().data.numpy())"
      ]
    },
    {
      "cell_type": "code",
      "source": [],
      "metadata": {
        "id": "jmlIgBJTg8pS"
      },
      "execution_count": null,
      "outputs": []
    },
    {
      "cell_type": "code",
      "source": [
        "from os import walk\n",
        "\n",
        "filenames = next(walk(\"images/\"), (None, None, []))[2]"
      ],
      "metadata": {
        "id": "WLzsIh64jlZY"
      },
      "execution_count": null,
      "outputs": []
    },
    {
      "cell_type": "code",
      "source": [
        "filenames.sort(key=lambda f: int(f.split(\".\")[0]))"
      ],
      "metadata": {
        "id": "Zr0kkuzsjo-A"
      },
      "execution_count": null,
      "outputs": []
    },
    {
      "cell_type": "code",
      "source": [
        "with imageio.get_writer('images/mygif.gif', mode='I') as writer:\n",
        "    for filename in filenames:\n",
        "        image = imageio.imread(\"images/\"+filename)\n",
        "        writer.append_data(image)"
      ],
      "metadata": {
        "id": "cnOfMAJMkUf4"
      },
      "execution_count": null,
      "outputs": []
    },
    {
      "cell_type": "code",
      "source": [
        "with torch.no_grad():\n",
        "  noise = generate_noise(shape=(50000, 10))\n",
        "  gp = gp_model(noise)\n",
        "\n",
        "  # Unpack and filter GP parameters\n",
        "  a, lpx, lpy, ls, p, wp, ws, ip, np, ns, ys = scale_and_extract(gp)\n",
        "  gp_parameters = stack_parameters(a, lpx, lpy, ls, p, wp, ws, *ys)\n",
        "  #print(gp_parameters)\n",
        "  extra_parameters = stack_parameters(ip, np, ns).transpose(0, 1)\n",
        "\n",
        "  # Scale GP parameters - why?\n",
        "  min_x = torch.min(gp_parameters)\n",
        "  max_x = torch.max(gp_parameters)\n",
        "  gp_parameters = (gp_parameters - min_x) / (max_x - min_x)\n",
        "\n",
        "  # Push GP parameters through MP model\n",
        "  mp_parameters = mp_model(gp_parameters)\n",
        "\n",
        "  # Scale MP parameters\n",
        "  y = torch.Tensor(df_mp.values).transpose(0, 1).to(\"cuda\")\n",
        "  min_y = torch.min(y, 1).values\n",
        "  max_y = torch.max(y, 1).values\n",
        "  mp_parameters = mp_parameters * (max_y - min_y) + min_y\n",
        "\n",
        "  k_parameters = mp_parameters.transpose(0, 1)[0:6]\n",
        "  l_parameters = mp_parameters.transpose(0, 1)[6:18]\n",
        "  b_parameters = mp_parameters.transpose(0, 1)[18:]\n",
        "\n",
        "  # Calculate losses\n",
        "  kdiff = kdiff_loss(k_parameters)\n",
        "  bstray = bstray_loss(k_parameters, l_parameters, b_parameters, extra_parameters)\n",
        "  coilloss,pave = coil_loss_and_power_average(k_parameters, l_parameters, b_parameters, extra_parameters)\n",
        "  V_PriCore, V_SecCore, V_PriWind,V_SecWind = core_losses(k_parameters, l_parameters, b_parameters, extra_parameters,gp_parameters)\n",
        "  fig, ax = plt.subplots()\n",
        "  detached_bstray = bstray.detach().cpu().numpy()\n",
        "  detached_kdiff = kdiff.detach().cpu().numpy()\n",
        "\n",
        "  new_bstray = []\n",
        "  new_kdiff = []\n",
        "\n",
        "  for i in range(len(detached_bstray)):\n",
        "    if detached_bstray[i] < 40 and detached_kdiff[i] < .15:\n",
        "      new_bstray.append(detached_bstray[i])\n",
        "      new_kdiff.append(detached_kdiff[i])\n",
        "  ax.scatter(new_bstray, new_kdiff, color='g')\n",
        "\n",
        "  # ax.add_patch(Rectangle((0, 0), 10, 20,\n",
        "  #            edgecolor = 'red',\n",
        "  #            linestyle=\"dotted\",\n",
        "  #            fill=False,\n",
        "  #            lw=1))\n",
        "  \n",
        "  plt.title(\"Total selected points \" + str(len(new_kdiff)))\n",
        "  plt.xlabel(\"Bstray\")\n",
        "  plt.ylabel(\"Kdiff\")\n",
        "\n",
        "  plt.show()\n",
        "\n",
        "  plt.title(\"Randomly generated points after GP reshaping\")\n",
        "  plt.xlabel(\"Bstray\")\n",
        "  plt.ylabel(\"Kdiff\")\n",
        "  plt.vlines(x=40,ymin = 0, ymax=.15,color='red',linestyle='dashed')\n",
        "  plt.hlines(y=.15,xmin = 0, xmax=40,color='red',linestyle='dashed')\n",
        "  plt.vlines(x=0,ymin = 0, ymax=.15,color='red',linestyle='dashed')\n",
        "  plt.hlines(y=0,xmin = 0, xmax=40,color='red',linestyle='dashed')\n",
        "  plt.scatter(detached_bstray,detached_kdiff)\n",
        "  print(pave)\n"
      ],
      "metadata": {
        "colab": {
          "base_uri": "https://localhost:8080/",
          "height": 608
        },
        "id": "eA_Mwz2cdxlC",
        "outputId": "c4718953-cebb-4f70-b3da-8d6d910712e4"
      },
      "execution_count": null,
      "outputs": [
        {
          "output_type": "display_data",
          "data": {
            "text/plain": [
              "<Figure size 432x288 with 1 Axes>"
            ],
            "image/png": "[encoded data removed]"
          },
          "metadata": {
            "needs_background": "light"
          }
        },
        {
          "output_type": "stream",
          "name": "stdout",
          "text": [
            "tensor([423.5891, 366.5275, 367.5647,  ..., 368.5293, 369.7809, 367.8035],\n",
            "       device='cuda:0')\n"
          ]
        },
        {
          "output_type": "display_data",
          "data": {
            "text/plain": [
              "<Figure size 432x288 with 1 Axes>"
            ],
            "image/png": "[encoded data removed]"
          },
          "metadata": {
            "needs_background": "light"
          }
        }
      ]
    },
    {
      "cell_type": "code",
      "source": [
        "plt.scatter(coilloss.detach().cpu(), bstray.detach().cpu())\n",
        "plt.vlines(x=2000, ymin = 0, ymax=40,color='red',linestyle='dashed')\n",
        "plt.hlines(y=40,xmin = 0, xmax=2000,color='red',linestyle='dashed')\n",
        "plt.vlines(x=0,ymin = 0, ymax=40,color='red',linestyle='dashed')\n",
        "plt.hlines(y=0,xmin = 0, xmax=2000,color='red',linestyle='dashed')\n",
        "plt.title(\"Randomly generated points after GP reshaping\")\n",
        "plt.xlabel(\"Coilloss\")\n",
        "plt.ylabel(\"bstray\")\n",
        "plt.show()\n",
        "\n",
        "new_coilloss = []\n",
        "new_bstray = []\n",
        "\n",
        "detached_coilloss = coilloss.detach().cpu().numpy()\n",
        "detached_bstray = bstray.detach().cpu().numpy()\n",
        "for i in range(len(detached_coilloss)):\n",
        "  if detached_coilloss[i] < 2000 and detached_bstray[i] < 40:\n",
        "    new_coilloss.append(detached_coilloss[i])\n",
        "    new_bstray.append(detached_bstray[i])\n",
        "\n",
        "plt.title(\"Total selected points \" + str(len(new_coilloss)))\n",
        "plt.xlabel(\"Coilloss\")\n",
        "plt.ylabel(\"bstray\")\n",
        "plt.scatter(new_coilloss, new_bstray, color='g')\n",
        "plt.show()"
      ],
      "metadata": {
        "colab": {
          "base_uri": "https://localhost:8080/",
          "height": 573
        },
        "id": "uTH3kzgrPkP1",
        "outputId": "6902cda8-d01a-4c48-c420-58c6b242cfd9"
      },
      "execution_count": null,
      "outputs": [
        {
          "output_type": "display_data",
          "data": {
            "text/plain": [
              "<Figure size 432x288 with 1 Axes>"
            ],
            "image/png": "[encoded data removed]"
          },
          "metadata": {
            "needs_background": "light"
          }
        },
        {
          "output_type": "display_data",
          "data": {
            "text/plain": [
              "<Figure size 432x288 with 1 Axes>"
            ],
            "image/png": "[encoded data removed]"
          },
          "metadata": {
            "needs_background": "light"
          }
        }
      ]
    },
    {
      "cell_type": "code",
      "source": [
        "new_coilloss = []\n",
        "new_kdiff = []\n",
        "\n",
        "detached_coilloss = coilloss.detach().cpu().numpy()\n",
        "detached_kdiff = kdiff.detach().cpu().numpy()\n",
        "for i in range(len(detached_coilloss)):\n",
        "  if detached_coilloss[i] < 2000 and detached_kdiff[i] < .15:\n",
        "    new_coilloss.append(detached_coilloss[i])\n",
        "    new_kdiff.append(detached_kdiff[i])\n",
        "\n",
        "plt.title(\"Total selected points \" + str(len(new_coilloss)))\n",
        "plt.xlabel(\"Coilloss\")\n",
        "plt.ylabel(\"Kdiff\")\n",
        "plt.scatter(new_coilloss, new_kdiff, color='g')\n",
        "plt.show()\n",
        "\n",
        "plt.scatter(coilloss.detach().cpu(), kdiff.detach().cpu())\n",
        "\n",
        "plt.vlines(x=2000,ymin = 0, ymax=.15,color='red',linestyle='dashed')\n",
        "plt.hlines(y=.15,xmin = 0, xmax=2000,color='red',linestyle='dashed')\n",
        "plt.vlines(x=0,ymin = 0, ymax=.15,color='red',linestyle='dashed')\n",
        "plt.hlines(y=0,xmin = 0, xmax=2000,color='red',linestyle='dashed')\n",
        "\n",
        "plt.title(\"Randomly generated points after GP reshaping\")\n",
        "plt.xlabel(\"Coilloss\")\n",
        "plt.ylabel(\"kdiff\")\n",
        "plt.show()"
      ],
      "metadata": {
        "colab": {
          "base_uri": "https://localhost:8080/",
          "height": 573
        },
        "id": "aMfDi6snBQ4b",
        "outputId": "219bf103-ed9f-4f45-f7e1-7a0fe7799914"
      },
      "execution_count": null,
      "outputs": [
        {
          "output_type": "display_data",
          "data": {
            "text/plain": [
              "<Figure size 432x288 with 1 Axes>"
            ],
            "image/png": "[encoded data removed]"
          },
          "metadata": {
            "needs_background": "light"
          }
        },
        {
          "output_type": "display_data",
          "data": {
            "text/plain": [
              "<Figure size 432x288 with 1 Axes>"
            ],
            "image/png": "[encoded data removed]"
          },
          "metadata": {
            "needs_background": "light"
          }
        }
      ]
    },
    {
      "cell_type": "code",
      "source": [
        "plt.scatter(V_PriCore.detach().cpu(), V_SecCore.detach().cpu())\n",
        "\n",
        "plt.title(\"Randomly generated points after GP reshaping\")\n",
        "plt.xlabel(\"VPricore\")\n",
        "plt.ylabel(\"VSeccore\")\n",
        "plt.show()"
      ],
      "metadata": {
        "colab": {
          "base_uri": "https://localhost:8080/",
          "height": 294
        },
        "id": "hyMp15Q5spz_",
        "outputId": "50136a65-b56a-4317-b6c5-fdf529dc3427"
      },
      "execution_count": null,
      "outputs": [
        {
          "output_type": "display_data",
          "data": {
            "text/plain": [
              "<Figure size 432x288 with 1 Axes>"
            ],
            "image/png": "[encoded data removed]"
          },
          "metadata": {
            "needs_background": "light"
          }
        }
      ]
    },
    {
      "cell_type": "markdown",
      "metadata": {
        "id": "30HkLvjohEvP"
      },
      "source": [
        "# Plotting"
      ]
    },
    {
      "cell_type": "code",
      "execution_count": null,
      "metadata": {
        "id": "hhwSAvn-hEvQ",
        "colab": {
          "base_uri": "https://localhost:8080/",
          "height": 283
        },
        "outputId": "1e68e346-debd-421e-a4b9-48b72efb1d70"
      },
      "outputs": [
        {
          "output_type": "execute_result",
          "data": {
            "text/plain": [
              "[<matplotlib.lines.Line2D at 0x7f02a91ff050>]"
            ]
          },
          "metadata": {},
          "execution_count": 31
        },
        {
          "output_type": "display_data",
          "data": {
            "text/plain": [
              "<Figure size 432x288 with 1 Axes>"
            ],
            "image/png": "[encoded data removed]"
          },
          "metadata": {
            "needs_background": "light"
          }
        }
      ],
      "source": [
        "noise = generate_noise(shape=(10_000, 10))\n",
        "gp = gp_model(noise)\n",
        "\n",
        "# Unpack and filter GP parameters\n",
        "a, lpx, lpy, ls, p, wp, ws, ip, np, ns, ys = scale_and_extract(gp)\n",
        "gp_parameters = stack_parameters(a, lpx, lpy, ls, p, wp, ws, *ys)\n",
        "extra_parameters = stack_parameters(ip, np, ns).transpose(0, 1)\n",
        "\n",
        "# Push GP parameters through MP model\n",
        "mp_parameters = mp_model(gp_parameters)\n",
        "\n",
        "# Scale MP parameters\n",
        "y = torch.Tensor(df_mp.values).transpose(0, 1).to(\"cuda\")\n",
        "min_y = torch.min(y, 1).values\n",
        "max_y = torch.max(y, 1).values\n",
        "mp_parameters = mp_parameters * (max_y - min_y) + min_y\n",
        "\n",
        "k_parameters = mp_parameters.transpose(0, 1)[0:6]\n",
        "l_parameters = mp_parameters.transpose(0, 1)[6:18]\n",
        "b_parameters = mp_parameters.transpose(0, 1)[18:]\n",
        "\n",
        "# Calculate losses\n",
        "kdiff = kdiff_loss(k_parameters)\n",
        "bstray = bstray_loss(k_parameters, l_parameters, b_parameters, extra_parameters)\n",
        "\n",
        "pareto_bstray, pareto_kdiff = pareto_frontier(bstray, kdiff)\n",
        "pareto_kdiff = pareto_kdiff * 100\n",
        "\n",
        "plt.plot(pareto_bstray.detach().cpu(), pareto_kdiff.detach().cpu())"
      ]
    },
    {
      "cell_type": "code",
      "source": [
        "200\n",
        "\n"
      ],
      "metadata": {
        "id": "0cv3LTHl6nM0",
        "colab": {
          "base_uri": "https://localhost:8080/"
        },
        "outputId": "ad132026-42e6-424e-9eb7-57a4bcbed0ab"
      },
      "execution_count": null,
      "outputs": [
        {
          "output_type": "execute_result",
          "data": {
            "text/plain": [
              "200"
            ]
          },
          "metadata": {},
          "execution_count": 32
        }
      ]
    },
    {
      "cell_type": "code",
      "execution_count": null,
      "metadata": {
        "colab": {
          "base_uri": "https://localhost:8080/",
          "height": 294
        },
        "id": "RzQqJFqChEvR",
        "outputId": "c7ed16ef-9c4f-47c1-c09b-154f9f0351ab"
      },
      "outputs": [
        {
          "output_type": "display_data",
          "data": {
            "text/plain": [
              "<Figure size 432x288 with 1 Axes>"
            ],
            "image/png": "[encoded data removed]"
          },
          "metadata": {
            "needs_background": "light"
          }
        }
      ],
      "source": [
        "noise = generate_noise(shape=(10000, 10))\n",
        "gp = gp_model(noise)\n",
        "\n",
        "# Unpack and filter GP parameters\n",
        "a, lpx, lpy, ls, p, wp, ws, ip, np, ns, ys = scale_and_extract(gp)\n",
        "gp_parameters = stack_parameters(a, lpx, lpy, ls, p, wp, ws, *ys)\n",
        "extra_parameters = stack_parameters(ip, np, ns).transpose(0, 1)\n",
        "\n",
        "# Push GP parameters through MP model\n",
        "mp_parameters = mp_model(gp_parameters)\n",
        "\n",
        "# Scale MP parameters\n",
        "y = torch.Tensor(df_mp.values).transpose(0, 1).to(\"cuda\")\n",
        "min_y = torch.min(y, 1).values\n",
        "max_y = torch.max(y, 1).values\n",
        "mp_parameters = mp_parameters * (max_y - min_y) + min_y\n",
        "\n",
        "k_parameters = mp_parameters.transpose(0, 1)[0:6]\n",
        "l_parameters = mp_parameters.transpose(0, 1)[6:18]\n",
        "b_parameters = mp_parameters.transpose(0, 1)[18:]\n",
        "\n",
        "# Calculate losses\n",
        "kdiff = kdiff_loss(k_parameters)\n",
        "bstray = bstray_loss(k_parameters, l_parameters, b_parameters, extra_parameters)\n",
        "#coilloss = coil_loss(k_parameters, l_parameters, b_parameters, extra_parameters)\n",
        "plt.scatter(bstray.detach().cpu(), kdiff.detach().cpu())\n",
        "\n",
        "plt.title(\"Randomly generated points after GP reshaping\")\n",
        "plt.xlabel(\"Bstray\")\n",
        "plt.ylabel(\"Kdiff\")\n",
        "\n",
        "plt.xlim([0,500])\n",
        "plt.ylim([0,.5])\n",
        "plt.show()"
      ]
    },
    {
      "cell_type": "code",
      "source": [
        "len(bstrays)"
      ],
      "metadata": {
        "id": "TtFPTNlRfhJy",
        "colab": {
          "base_uri": "https://localhost:8080/"
        },
        "outputId": "f2cab339-e6cf-40eb-87d8-9f6261bd93bb"
      },
      "execution_count": null,
      "outputs": [
        {
          "output_type": "execute_result",
          "data": {
            "text/plain": [
              "4"
            ]
          },
          "metadata": {},
          "execution_count": 34
        }
      ]
    },
    {
      "cell_type": "code",
      "source": [
        "coilloss,pave = coil_loss_and_power_average(k_parameters, l_parameters, b_parameters, extra_parameters)\n",
        "plt.scatter(coilloss.detach().cpu(), kdiff.detach().cpu())\n",
        "\n",
        "plt.title(\"Randomly generated points after GP reshaping\")\n",
        "plt.xlabel(\"Coilloss\")\n",
        "plt.ylabel(\"Kdiff\")\n",
        "plt.xlim([0,200])\n",
        "plt.ylim([0,.5])\n",
        "plt.show()"
      ],
      "metadata": {
        "id": "NmF_nGkGuTp8",
        "colab": {
          "base_uri": "https://localhost:8080/",
          "height": 294
        },
        "outputId": "953c8e9c-1dc5-4efc-d6d6-b96a9836c363"
      },
      "execution_count": null,
      "outputs": [
        {
          "output_type": "display_data",
          "data": {
            "text/plain": [
              "<Figure size 432x288 with 1 Axes>"
            ],
            "image/png": "[encoded data removed]"
          },
          "metadata": {
            "needs_background": "light"
          }
        }
      ]
    },
    {
      "cell_type": "code",
      "source": [
        "plt.scatter(coilloss.detach().cpu(), bstray.detach().cpu())\n",
        "\n",
        "plt.title(\"Randomly generated points after GP reshaping\")\n",
        "plt.xlabel(\"Coilloss\")\n",
        "plt.ylabel(\"bstray\")\n",
        "plt.show()"
      ],
      "metadata": {
        "id": "to4Liy3kudbr",
        "colab": {
          "base_uri": "https://localhost:8080/",
          "height": 294
        },
        "outputId": "743a8ad7-2c16-4e7f-9868-44893f6f1bce"
      },
      "execution_count": null,
      "outputs": [
        {
          "output_type": "display_data",
          "data": {
            "text/plain": [
              "<Figure size 432x288 with 1 Axes>"
            ],
            "image/png": "[encoded data removed]"
          },
          "metadata": {
            "needs_background": "light"
          }
        }
      ]
    },
    {
      "cell_type": "code",
      "execution_count": null,
      "metadata": {
        "id": "Wud8-rejhEvS",
        "colab": {
          "base_uri": "https://localhost:8080/"
        },
        "outputId": "a82800c1-b5a8-4f5f-86b5-c9bd4586f074"
      },
      "outputs": [
        {
          "output_type": "stream",
          "name": "stdout",
          "text": [
            "Noise 0\n",
            "[-0.93662083  0.9035374   0.02703702 -0.79342055 -0.9278457  -0.5249814\n",
            " -0.7120999  -0.7615689  -0.43356562  0.8832253 ]\n",
            "\n",
            "Generated Parameters 0\n",
            "[0.00382875 0.94693744 0.00227757 0.14970018 0.00381177 0.00351784\n",
            " 0.29845    0.01540168 0.62579644 0.3734199 ]\n",
            "\n",
            "Noise 1\n",
            "[ 0.79666936  0.4276029   0.06632411  0.034742    0.24348271  0.24962056\n",
            " -0.35332918 -0.5072838  -0.8230016   0.8600168 ]\n",
            "\n",
            "Generated Parameters 1\n",
            "[0.99724567 0.07518794 0.9988457  0.71584255 0.995408   0.99136543\n",
            " 0.57148725 0.7121525  0.46268293 0.4434883 ]\n",
            "\n",
            "Noise 2\n",
            "[-0.8844336   0.4509015  -0.12377799 -0.86936617  0.62090075  0.11087704\n",
            " -0.73400044 -0.10067677 -0.9951782   0.55139136]\n",
            "\n",
            "Generated Parameters 2\n",
            "[0.68920153 0.09109823 0.44335985 0.60898614 0.679982   0.8207497\n",
            " 0.32551464 0.00446921 0.44301763 0.5743412 ]\n",
            "\n"
          ]
        }
      ],
      "source": [
        "noise = generate_noise(shape=(3, 10))\n",
        "gp = gp_model(noise)\n",
        "\n",
        "noise = noise.cpu().numpy()\n",
        "gp = gp.cpu().detach().numpy()\n",
        "\n",
        "for i in range(3):\n",
        "    print(f\"Noise {i}\")\n",
        "    print(noise[i])\n",
        "    print()\n",
        "    print(f\"Generated Parameters {i}\")\n",
        "    print(gp[i])\n",
        "    print()"
      ]
    },
    {
      "cell_type": "code",
      "execution_count": null,
      "metadata": {
        "id": "l4zv0YIlhEvS",
        "colab": {
          "base_uri": "https://localhost:8080/",
          "height": 683
        },
        "outputId": "704e177a-4384-40aa-a4c6-f16a5779ad34"
      },
      "outputs": [
        {
          "output_type": "display_data",
          "data": {
            "text/plain": [
              "<Figure size 720x360 with 1 Axes>"
            ],
            "image/png": "[encoded data removed]"
          },
          "metadata": {
            "needs_background": "light"
          }
        },
        {
          "output_type": "display_data",
          "data": {
            "text/plain": [
              "<Figure size 720x360 with 1 Axes>"
            ],
            "image/png": "[encoded data removed]"
          },
          "metadata": {
            "needs_background": "light"
          }
        }
      ],
      "source": [
        "plt.figure(figsize=(10, 5))\n",
        "plt.title(f\"KDiff Error During Training\")\n",
        "plt.xlabel(\"Epoch\")\n",
        "plt.ylabel(\"Coupling %\")\n",
        "\n",
        "plt.plot(numpy.arange(len(kdiffs)), kdiffs)\n",
        "plt.show()\n",
        "\n",
        "\n",
        "plt.figure(figsize=(10, 5))\n",
        "plt.title(f\"BStray Error During Training\")\n",
        "plt.xlabel(\"Epoch\")\n",
        "plt.ylabel(\"BStray\")\n",
        "\n",
        "plt.plot(numpy.arange(len(bstrays)), bstrays)\n",
        "plt.show()"
      ]
    },
    {
      "cell_type": "code",
      "execution_count": null,
      "metadata": {
        "id": "pR-ITsCJhEvT",
        "colab": {
          "base_uri": "https://localhost:8080/",
          "height": 444
        },
        "outputId": "1573e4ae-85b2-4560-d421-8f92c3202751"
      },
      "outputs": [
        {
          "output_type": "stream",
          "name": "stderr",
          "text": [
            "WARNING:matplotlib.legend:No handles with labels found to put in legend.\n"
          ]
        },
        {
          "output_type": "stream",
          "name": "stdout",
          "text": [
            "0 0\n"
          ]
        },
        {
          "output_type": "display_data",
          "data": {
            "text/plain": [
              "<Figure size 720x360 with 1 Axes>"
            ],
            "image/png": "[encoded data removed]"
          },
          "metadata": {
            "needs_background": "light"
          }
        },
        {
          "output_type": "execute_result",
          "data": {
            "text/plain": [
              "'\\nplt.figure(figsize=(10, 5))\\nplt.title(f\"Pareto Kdiff During Training\")\\nplt.xlabel(\"Epoch\")\\nplt.ylabel(\"Coupling %\")\\n\\nfor x in pareto_kdiff_points:\\n    plt.plot(x)\\nplt.show()\\n'"
            ],
            "application/vnd.google.colaboratory.intrinsic+json": {
              "type": "string"
            }
          },
          "metadata": {},
          "execution_count": 39
        }
      ],
      "source": [
        "i = 0\n",
        "plt.figure(figsize=(10, 5))\n",
        "plt.suptitle(f\"Pareto Bstray vs Kdiff During Training\")\n",
        "plt.title(\"1000 epochs, 256 noise, log(y)+1\")\n",
        "plt.xlabel(\"Bstray\")\n",
        "plt.ylabel(\"Coupling %\")\n",
        "\n",
        "print(len(pareto_bstray_points), len(pareto_kdiff_points))\n",
        "\n",
        "while i < len(pareto_bstray_points):\n",
        "    plt.plot(pareto_bstray_points[i], pareto_kdiff_points[i], label = f\"epoch: {i*100}\")\n",
        "    i+=1\n",
        "plt.legend()\n",
        "plt.show()\n",
        "#plt.savefig('Pareto_Bstray_Kdiff_1000Epoch_256Noise_log(y)+1.png')\n",
        "\n",
        "'''\n",
        "plt.figure(figsize=(10, 5))\n",
        "plt.title(f\"Pareto Kdiff During Training\")\n",
        "plt.xlabel(\"Epoch\")\n",
        "plt.ylabel(\"Coupling %\")\n",
        "\n",
        "for x in pareto_kdiff_points:\n",
        "    plt.plot(x)\n",
        "plt.show()\n",
        "'''"
      ]
    },
    {
      "cell_type": "code",
      "execution_count": null,
      "metadata": {
        "id": "bqWy24DchEvT",
        "colab": {
          "base_uri": "https://localhost:8080/"
        },
        "outputId": "af58e67c-4719-4cf4-e7fc-6f39faeecbed"
      },
      "outputs": [
        {
          "output_type": "stream",
          "name": "stdout",
          "text": [
            "[]\n"
          ]
        }
      ],
      "source": [
        "print(p_front_x)"
      ]
    },
    {
      "cell_type": "code",
      "execution_count": null,
      "metadata": {
        "id": "eTFWo6OdhEvU"
      },
      "outputs": [],
      "source": []
    }
  ],
  "metadata": {
    "accelerator": "GPU",
    "colab": {
      "collapsed_sections": [],
      "provenance": []
    },
    "kernelspec": {
      "display_name": "Python 3 (ipykernel)",
      "language": "python",
      "name": "python3"
    },
    "language_info": {
      "codemirror_mode": {
        "name": "ipython",
        "version": 3
      },
      "file_extension": ".py",
      "mimetype": "text/x-python",
      "name": "python",
      "nbconvert_exporter": "python",
      "pygments_lexer": "ipython3",
      "version": "3.9.12"
    }
  },
  "nbformat": 4,
  "nbformat_minor": 0
}