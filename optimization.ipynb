{
  "cells": [
    {
      "cell_type": "code",
      "execution_count": null,
      "metadata": {
        "id": "iZN2u5WKRFqR",
        "colab": {
          "base_uri": "https://localhost:8080/"
        },
        "outputId": "d630588b-b4fd-4457-f601-ec1b73d33ec9"
      },
      "outputs": [
        {
          "output_type": "execute_result",
          "data": {
            "text/plain": [
              "<torch._C.Generator at 0x7f29da895510>"
            ]
          },
          "metadata": {},
          "execution_count": 224
        }
      ],
      "source": [
        "# Import libraries\n",
        "import torch\n",
        "from torch import tensor\n",
        "from torch import nn \n",
        "from torch import sigmoid\n",
        "from torch import atan\n",
        "from torch import tanh\n",
        "import torch.optim as optim\n",
        "from sklearn.metrics import mean_squared_error\n",
        "from sklearn.model_selection import train_test_split\n",
        "import random\n",
        "\n",
        "seed = 7777\n",
        "random.seed(seed) \n",
        "torch.manual_seed(seed)"
      ]
    },
    {
      "cell_type": "code",
      "execution_count": null,
      "metadata": {
        "id": "Bse1wsKN1NxY"
      },
      "outputs": [],
      "source": [
        "lpy_min = 50 #mm\n",
        "lpy_max = 2050 #mm\n",
        "lpx_min = 50 #mm\n",
        "lpx_max = 650 #mm\n",
        "wp_min = 25 # mm\n",
        "wp_max = 325 # mm\n",
        "a_min = 0 # mm\n",
        "a_max = 200 # mm\n",
        "p_min = 0 # mm\n",
        "p_max = 200 # mm\n",
        "ls_min = 50 # mm\n",
        "ls_max = 450 # mm\n",
        "ws_min = 25 # mm\n",
        "ws_max = 225 # mm\n",
        "# Ip_min = 50 # A rms\n",
        "# Ip_max = 200 # A rms\n",
        "# Np_min = 4 #turn\n",
        "# Np_max = 10 #turn\n",
        "# Ns_min = 4 #turn\n",
        "# Ns_max = 10 #turn"
      ]
    },
    {
      "cell_type": "code",
      "execution_count": null,
      "metadata": {
        "id": "B-TMPJtCKIM6"
      },
      "outputs": [],
      "source": [
        "class Model(nn.Module): # Design your model using class\n",
        "    def __init__(self):    \n",
        "        super(Model, self).__init__() #In the constructor, we instantiate nn.Linear module.\n",
        "        self.linear1 = nn.Linear(12, 100, bias=True).cuda() # nn.Linear(<input size> ,<output size>)\n",
        "        self.linear2 = nn.Linear(100, 100, bias=True).cuda()\n",
        "        self.linear3 = nn.Linear(100, 42, bias=True).cuda()\n",
        "\n",
        "    def forward(self, x):\n",
        "        x = atan(self.linear1(x))\n",
        "        x = atan(self.linear2(x))\n",
        "        x = atan(self.linear2(x))\n",
        "        y_pred = self.linear3(x)\n",
        "        return y_pred"
      ]
    },
    {
      "cell_type": "code",
      "execution_count": null,
      "metadata": {
        "id": "g9oqBtYCRR_c"
      },
      "outputs": [],
      "source": [
        "model = Model() # our model\n",
        "model.load_state_dict(torch.load('saved_model_state.pt'))\n",
        "\n",
        "for param in model.parameters():\n",
        "    param.requires_grad = False"
      ]
    },
    {
      "cell_type": "code",
      "execution_count": null,
      "metadata": {
        "id": "dMoXnTFV8U1P"
      },
      "outputs": [],
      "source": [
        "def generate_noise(a, b):\n",
        "    low,high = -1, 1  # range of uniform distribution\n",
        "\n",
        "    return torch.distributions.uniform.Uniform(low,high).sample([a,b]).cuda()"
      ]
    },
    {
      "cell_type": "code",
      "execution_count": null,
      "metadata": {
        "id": "z9cggAl1BGHo"
      },
      "outputs": [],
      "source": [
        "from torch.nn.modules import activation\n",
        "\n",
        "class Generator(nn.Module):\n",
        "\n",
        "    def __init__(self, input_length: int): \n",
        "      super(Generator, self).__init__() \n",
        "      self.dense_layer = nn.Linear(int(input_length), 128).cuda() \n",
        "      torch.nn.init.kaiming_uniform_(self.dense_layer.weight) \n",
        "      self.dense_layer1 = nn.Linear(128, 256).cuda() \n",
        "      torch.nn.init.kaiming_uniform_(self.dense_layer1.weight) \n",
        "      self.dense_layer2 = nn.Linear(256, 512).cuda() \n",
        "      torch.nn.init.kaiming_uniform_(self.dense_layer2.weight) \n",
        "      self.dense_layer3 = nn.Linear(512, 256).cuda() \n",
        "      torch.nn.init.kaiming_uniform_(self.dense_layer3.weight) \n",
        "      self.dense_layer4 = nn.Linear(256, 128).cuda() \n",
        "      torch.nn.init.kaiming_uniform_(self.dense_layer4.weight) \n",
        "      self.dense_layer5 = nn.Linear(128, int(input_length)).cuda() \n",
        "      torch.nn.init.kaiming_uniform_(self.dense_layer5.weight) \n",
        "      self.activation = nn.Sigmoid() \n",
        "\n",
        "    def forward(self, x): \n",
        "      x = atan(self.dense_layer(x)) \n",
        "      x = atan(self.dense_layer1(x)) \n",
        "      x = atan(self.dense_layer2(x)) \n",
        "      x = atan(self.dense_layer3(x)) \n",
        "      x = atan(self.dense_layer4(x)) \n",
        "      x = self.activation(self.dense_layer5(x)) \n",
        "      return x "
      ]
    },
    {
      "cell_type": "code",
      "execution_count": null,
      "metadata": {
        "id": "vuPxzX7KuP2l"
      },
      "outputs": [],
      "source": [
        "generator = Generator(7)\n",
        "for param in generator.parameters():\n",
        "    param.requires_grad = True"
      ]
    },
    {
      "cell_type": "code",
      "execution_count": null,
      "metadata": {
        "id": "lmtwMfOB20K4"
      },
      "outputs": [],
      "source": [
        "def scaler(value, min , max):\n",
        "    return value * (max - min) + min"
      ]
    },
    {
      "cell_type": "code",
      "execution_count": null,
      "metadata": {
        "id": "brlwMfzj1Nxh"
      },
      "outputs": [],
      "source": [
        "@torch.jit.script\n",
        "def linspace(start: torch.Tensor, stop: torch.Tensor, num: int):\n",
        "    \"\"\"\n",
        "    Creates a tensor of shape [num, *start.shape] whose values are evenly spaced from start to end, inclusive.\n",
        "    Replicates but the multi-dimensional bahaviour of numpy.linspace in PyTorch.\n",
        "    \"\"\"\n",
        "    # create a tensor of 'num' steps from 0 to 1\n",
        "    steps = torch.arange(num, dtype=torch.float32, device=start.device) / (num - 1)\n",
        "    \n",
        "    # reshape the 'steps' tensor to [-1, *([1]*start.ndim)] to allow for broadcastings\n",
        "    # - using 'steps.reshape([-1, *([1]*start.ndim)])' would be nice here but torchscript\n",
        "    #   \"cannot statically infer the expected size of a list in this contex\", hence the code below\n",
        "    for i in range(start.ndim):\n",
        "        steps = steps.unsqueeze(-1)\n",
        "    \n",
        "    # the output starts at 'start' and increments until 'stop' in each dimension\n",
        "    out = start[None] + steps*(stop - start)[None]\n",
        "    \n",
        "    return out"
      ]
    },
    {
      "cell_type": "code",
      "execution_count": null,
      "metadata": {
        "id": "xloGE25R8Jtm"
      },
      "outputs": [],
      "source": [
        "def scale_and_extract(arr):\n",
        "    scaler_min = torch.tensor([50., 50., 25., 0., 0., 50., 25.], requires_grad=True, device=\"cuda\")\n",
        "    scaler_max = torch.tensor([2050., 650., 325., 200., 200., 450., 225.], requires_grad=True, device=\"cuda\")\n",
        "    arr = scaler(arr, scaler_min, scaler_max)\n",
        "    y0_i = (arr[:,0] + arr[:,2]) / 2\n",
        "    y1_i = (3/2 * arr[:,0]) + (5/2 * arr[:,2]) + (2 * arr[:,3]) + (arr[:,4])\n",
        "\n",
        "    ys_min = (y1_i)\n",
        "    ys_max = (y1_i + (y1_i - y0_i) / 2)\n",
        "    \n",
        "    ys = linspace(ys_min, ys_max, num = 5)\n",
        "    ys = torch.transpose(ys, 0, 1)\n",
        "\n",
        "    return torch.cat([arr, ys], axis=1)\n"
      ]
    },
    {
      "cell_type": "code",
      "execution_count": null,
      "metadata": {
        "id": "7be3y_pG1Nxj"
      },
      "outputs": [],
      "source": [
        "from torch.optim.lr_scheduler import ExponentialLR\n",
        "TRAINING = 10001\n",
        "learning_rate = 1e-3\n",
        "optimizer = torch.optim.Adam(generator.parameters(), lr=learning_rate)\n",
        "\n",
        "#optimizer = torch.optim.Adam(generator.parameters(), lr = learning_rate)"
      ]
    },
    {
      "cell_type": "code",
      "source": [
        "kdiffs = []"
      ],
      "metadata": {
        "id": "bJ5XlCKA8wem"
      },
      "execution_count": null,
      "outputs": []
    },
    {
      "cell_type": "code",
      "source": [
        "noise = generate_noise(1000, 7)\n",
        "GP = generator(noise)\n",
        "print(noise[100],noise[101],noise[102])\n",
        "print(GP[100],GP[101],GP[102])\n",
        "scaled_array = scale_and_extract(GP)\n",
        "\n",
        "MP = model(scaled_array)\n",
        "print(MP[100],MP[101],MP[102])"
      ],
      "metadata": {
        "colab": {
          "base_uri": "https://localhost:8080/"
        },
        "id": "44TlTSnclCKs",
        "outputId": "3c30eae1-28b5-458a-968c-8c4e99ee2a7b"
      },
      "execution_count": null,
      "outputs": [
        {
          "output_type": "stream",
          "name": "stdout",
          "text": [
            "tensor([-0.8936, -0.2138, -0.4511,  0.8787, -0.7498, -0.7834, -0.3224],\n",
            "       device='cuda:0') tensor([ 0.5917,  0.1660, -0.1943,  0.9169,  0.3506, -0.6533,  0.9419],\n",
            "       device='cuda:0') tensor([ 0.4798, -0.2450,  0.8223, -0.9302, -0.1878, -0.8974,  0.7301],\n",
            "       device='cuda:0')\n",
            "tensor([0.4250, 0.2418, 0.4831, 0.2738, 0.7462, 0.2538, 0.2466],\n",
            "       device='cuda:0', grad_fn=<SelectBackward0>) tensor([0.5039, 0.6671, 0.6090, 0.7169, 0.5654, 0.5274, 0.1623],\n",
            "       device='cuda:0', grad_fn=<SelectBackward0>) tensor([0.4466, 0.4244, 0.7312, 0.7686, 0.2283, 0.5829, 0.7822],\n",
            "       device='cuda:0', grad_fn=<SelectBackward0>)\n",
            "tensor([ 2.2739e-01,  1.2070e-01, -3.7079e-01, -3.6483e-01,  3.7322e-02,\n",
            "         3.3239e-01,  9.5422e-01,  9.4154e-01,  9.4342e-01,  1.1591e+00,\n",
            "         8.5877e-01,  1.1863e+00,  1.2562e+00,  8.5783e-01,  1.2282e+00,\n",
            "         1.2639e+00,  9.4228e-01,  1.0589e+00,  2.2289e-01,  4.8394e-01,\n",
            "        -6.9817e-01, -9.1345e-01,  1.4945e+00, -8.4713e-01,  7.1631e-01,\n",
            "         4.1401e-01,  7.3646e-01,  1.5411e-01,  4.7821e-01,  9.5952e-01,\n",
            "        -3.3663e-01,  3.8157e-01, -3.3862e-01,  5.2348e-01,  6.6654e-04,\n",
            "         6.2366e-01,  5.6098e-01,  5.7179e-01,  9.2757e-01,  8.4548e-01,\n",
            "         2.1498e-01,  8.8129e-01], device='cuda:0', grad_fn=<SelectBackward0>) tensor([ 0.1586,  0.1024, -0.2592, -0.0746,  0.1898,  0.2480,  1.0353,  1.0111,\n",
            "         1.0314,  1.2988,  0.9483,  1.3600,  1.4326,  1.1542,  1.5067,  1.4236,\n",
            "         1.0935,  1.1784,  0.0239,  0.4466, -0.6819, -0.9770,  1.6356, -0.8942,\n",
            "         0.6487,  0.5395,  0.8616,  0.2616,  0.4330,  0.9775, -0.3517,  0.4795,\n",
            "        -0.2044,  0.4927, -0.0423,  0.7113,  0.7063,  0.5631,  1.0595,  0.9039,\n",
            "         0.1596,  0.9614], device='cuda:0', grad_fn=<SelectBackward0>) tensor([ 0.2223,  0.1951,  0.0804,  0.1576,  0.2469,  0.3055,  0.8498,  0.8401,\n",
            "         0.8464,  1.0752,  0.7269,  1.3115,  1.4593,  1.1025,  1.3777,  1.4848,\n",
            "         0.9457,  1.2610,  0.0857,  0.5572, -0.5694, -0.8601,  1.6324, -0.8236,\n",
            "         0.7264,  0.5156,  0.8894,  0.3454,  0.4883,  1.0771, -0.2747,  0.4573,\n",
            "        -0.2497,  0.7040,  0.0489,  0.7437,  0.7683,  0.6763,  1.1538,  1.0119,\n",
            "         0.2975,  0.9911], device='cuda:0', grad_fn=<SelectBackward0>)\n"
          ]
        }
      ]
    },
    {
      "cell_type": "code",
      "execution_count": null,
      "metadata": {
        "colab": {
          "base_uri": "https://localhost:8080/"
        },
        "id": "OXzpQf5O1Nxk",
        "outputId": "18da8209-6b5c-4003-92f6-1a525676618b"
      },
      "outputs": [
        {
          "output_type": "stream",
          "name": "stdout",
          "text": [
            "Epoch:    0 | Coupling: 77.062%\n",
            "Epoch: 2500 | Coupling: 5.750%\n",
            "Epoch: 5000 | Coupling: 3.293%\n",
            "Epoch: 7500 | Coupling: 3.116%\n",
            "Epoch: 10000 | Coupling: 6.164%\n"
          ]
        }
      ],
      "source": [
        "for i in range(TRAINING):\n",
        "    \n",
        "    # zero out the parameter gradients\n",
        "    # self.optimizer.zero_grad() is slow\n",
        "    # for param in generator.parameters():\n",
        "    #     param.grad = None\n",
        "    optimizer.zero_grad()\n",
        "\n",
        "    noise = generate_noise(100, 7) #IP, Ns and Np\n",
        "    GP = generator(noise)\n",
        "    scaled_array = scale_and_extract(GP)\n",
        "\n",
        "    MP = model(scaled_array)\n",
        "    #print(MP[0], GP[0])\n",
        "    #calculate Is \n",
        "    kdiff = MP[:, 0] - MP[:, 5]\n",
        "    kdiff = abs(kdiff / MP[:, 0])\n",
        "    kdiff = torch.mean(kdiff) # + scaling factor * Bstray Loss \n",
        "    kdiffs.append(kdiff.detach().cpu().item())\n",
        "    kdiff.backward()\n",
        "\n",
        "    #First consider only Bstray \n",
        "    optimizer.step()\n",
        "\n",
        "    if i % 2500 == 0:\n",
        "        print(f\"Epoch: {i:4d} | Coupling: {100 * kdiff:.3f}%\")\n"
      ]
    },
    {
      "cell_type": "code",
      "source": [
        "with torch.no_grad():\n",
        "  noise = generate_noise(10000, 7)\n",
        "  GP = generator(noise)\n",
        "  scaled_array = scale_and_extract(GP)\n",
        "  MP = model(scaled_array)\n",
        "  print(noise[0], noise[9000])\n",
        "  print(GP[0], GP[9000])\n",
        "  print(MP[1], MP[9000])"
      ],
      "metadata": {
        "colab": {
          "base_uri": "https://localhost:8080/"
        },
        "id": "FTPh7hkoamcz",
        "outputId": "ab7a5792-6786-4b5b-f3ac-eb91420ce573"
      },
      "execution_count": null,
      "outputs": [
        {
          "output_type": "stream",
          "name": "stdout",
          "text": [
            "tensor([ 0.4034, -0.9187,  0.3704,  0.8084, -0.4657, -0.3782,  0.9670],\n",
            "       device='cuda:0') tensor([-0.6369,  0.6334, -0.4211,  0.2497, -0.4581,  0.8631, -0.2245],\n",
            "       device='cuda:0')\n",
            "tensor([3.3226e-10, 6.5962e-01, 3.2370e-07, 1.3842e-01, 7.5380e-03, 1.0000e+00,\n",
            "        9.9367e-01], device='cuda:0') tensor([1.0000e+00, 7.8074e-01, 1.0000e+00, 1.4176e-01, 1.1241e-01, 4.0638e-05,\n",
            "        5.3372e-01], device='cuda:0')\n",
            "tensor([ 0.7392,  0.8141,  0.6203,  0.6055, -0.9572,  0.7297,  0.3146,  0.3644,\n",
            "         0.2664,  0.4437,  0.3543,  0.4566,  0.3178,  0.5277,  0.4811,  0.3324,\n",
            "         0.2196,  0.5176, -1.2785,  0.0249, -0.6112, -0.2713,  0.8598, -0.4000,\n",
            "         0.7951,  0.6460,  0.3960, -0.1254,  0.1691,  0.7482, -1.3016,  0.3591,\n",
            "        -0.6893,  1.5053,  0.3125,  0.9177,  1.2763,  0.4355,  0.5492,  0.7620,\n",
            "         0.5029,  0.5138], device='cuda:0') tensor([ 3.0000e-01,  1.9459e-01, -4.3931e-01, -5.0511e-01, -1.0212e-01,\n",
            "         3.2598e-01,  1.0676e+00,  1.0354e+00,  1.0113e+00,  1.2823e+00,\n",
            "         9.1502e-01,  1.2255e+00,  1.3300e+00,  9.8369e-01,  1.3733e+00,\n",
            "         1.3440e+00,  1.0465e+00,  1.0470e+00,  3.0510e-04,  2.9246e-01,\n",
            "        -8.3742e-01, -1.0971e+00,  1.6607e+00, -1.1576e+00,  7.5602e-01,\n",
            "         2.6917e-01,  8.0571e-01,  2.6386e-02,  3.5627e-01,  8.9703e-01,\n",
            "        -3.7193e-01,  3.9902e-01, -4.1414e-01,  3.7521e-01, -5.0056e-02,\n",
            "         5.3650e-01,  7.4674e-01,  3.1450e-01,  1.0295e+00,  6.0219e-01,\n",
            "         1.9825e-01,  8.4437e-01], device='cuda:0')\n"
          ]
        }
      ]
    },
    {
      "cell_type": "code",
      "source": [
        "import matplotlib.pyplot as plt\n",
        "\n",
        "plt.xlabel('Epochs')\n",
        "plt.ylabel('Kdiffs')\n",
        "plt.plot(kdiffs)\n"
      ],
      "metadata": {
        "id": "GAm8xle2apNR",
        "colab": {
          "base_uri": "https://localhost:8080/",
          "height": 298
        },
        "outputId": "98403c8e-18ff-466d-883d-0f1d8893555e"
      },
      "execution_count": null,
      "outputs": [
        {
          "output_type": "execute_result",
          "data": {
            "text/plain": [
              "[<matplotlib.lines.Line2D at 0x7f29c1aa4cd0>]"
            ]
          },
          "metadata": {},
          "execution_count": 239
        },
        {
          "output_type": "display_data",
          "data": {
            "image/png": "[encoded data removed]",
            "text/plain": [
              "<Figure size 432x288 with 1 Axes>"
            ]
          },
          "metadata": {
            "needs_background": "light"
          }
        }
      ]
    }
  ],
  "metadata": {
    "accelerator": "GPU",
    "colab": {
      "collapsed_sections": [],
      "name": "optimization_.ipynb",
      "provenance": []
    },
    "kernelspec": {
      "display_name": "Python 3 (ipykernel)",
      "language": "python",
      "name": "python3"
    },
    "language_info": {
      "codemirror_mode": {
        "name": "ipython",
        "version": 3
      },
      "file_extension": ".py",
      "mimetype": "text/x-python",
      "name": "python",
      "nbconvert_exporter": "python",
      "pygments_lexer": "ipython3",
      "version": "3.7.7"
    }
  },
  "nbformat": 4,
  "nbformat_minor": 0
}